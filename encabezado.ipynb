{
 "cells": [
  {
   "cell_type": "code",
   "execution_count": null,
   "metadata": {},
   "outputs": [],
   "source": [
    "Actividad Git-GitHub | Equipo 3\n",
    "Asgard Andrés Mendoza Flores - A00572566\n",
    "César Sánchez Guajardo - A00572573\n",
    "Renata Garfias - A01369860\n",
    "Genesis Pereyra - A01734276\n",
    "Emilio Ramírez Rodríguez - a00573943\n",
    "José Ignacio Polanco García - a00836919\n"
   ]
  }
 ],
 "metadata": {
  "language_info": {
   "name": "python"
  }
 },
 "nbformat": 4,
 "nbformat_minor": 2
}
